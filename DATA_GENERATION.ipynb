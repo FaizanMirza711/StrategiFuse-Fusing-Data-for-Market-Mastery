{
 "cells": [
  {
   "cell_type": "markdown",
   "id": "4f83d80f",
   "metadata": {},
   "source": [
    "\n",
    "# As we donot have access to any company CRM lets Generate the data using faker in python"
   ]
  },
  {
   "cell_type": "code",
   "execution_count": 1,
   "id": "da29b328",
   "metadata": {},
   "outputs": [],
   "source": [
    "from faker import Faker\n",
    "import pandas as pd\n",
    "import random\n",
    "\n",
    "# Initialize Faker object with Indian locale\n",
    "fake = Faker('en_IN')"
   ]
  },
  {
   "cell_type": "code",
   "execution_count": 2,
   "id": "a0dbd8f6",
   "metadata": {},
   "outputs": [],
   "source": [
    "# Generate sample customer data\n",
    "num_customers = 1000  # Number of customers to generate\n",
    "\n",
    "customer_data = []\n",
    "for customer_id in range(1, num_customers + 1):\n",
    "    customer = {\n",
    "        'CustomerID':customer_id,                        # Unique customer ID\n",
    "        'FirstName': fake.first_name(),                   # First name\n",
    "        'LastName': fake.last_name(),                     # Last name\n",
    "        'Email': fake.email().replace('@example.', '@gmail.'),  # Email address with @gmail.com domain\n",
    "        'PhoneNumber': fake.random_number(digits=10),     # 10-digit phone number\n",
    "        'Address': fake.street_address(),                 # Indian address\n",
    "        'City': fake.random_element(elements=('Pune', 'Mumbai', 'Aurangabad', 'Nashik', 'Nagpur')),  # Indian city\n",
    "        'State': 'Maharashtra',                           # State set to Maharashtra\n",
    "        'ZipCode': '',                                    # Postal code to be updated based on city\n",
    "        'Country': 'India',                               # Country set to India\n",
    "        'Age': fake.random_int(min=18, max=90),           # Age\n",
    "        'Gender': fake.random_element(['Male', 'Female']),# Gender\n",
    "    }\n",
    "    customer_data.append(customer)\n"
   ]
  },
  {
   "cell_type": "markdown",
   "id": "cae9100c",
   "metadata": {},
   "source": [
    "# In real-life scenario we have data frames like purchase history customer data marketing pulls demographics and website browsing behaviour"
   ]
  },
  {
   "cell_type": "code",
   "execution_count": 3,
   "id": "c8cf1573",
   "metadata": {},
   "outputs": [],
   "source": [
    "# Generate sample purchase history\n",
    "products = ['Laptop', 'Smartphone', 'Headphones', 'Shoes', 'Jacket', 'Watch', 'Camera']\n",
    "purchase_data = []\n",
    "for customer_id in range(1, num_customers + 1):\n",
    "    num_purchases = random.randint(1, 5)\n",
    "    for _ in range(num_purchases):\n",
    "        purchase = {\n",
    "            'CustomerID': customer_id,                                      # Customer ID\n",
    "            'Product': random.choice(products),                            # Product purchased\n",
    "            'Price': round(random.uniform(50, 1000), 2),                   # Purchase price\n",
    "            'Quantity': random.randint(1, 3),                              # Quantity purchased\n",
    "            'PurchaseDate': fake.date_time_between(start_date='-1y', end_date='now', tzinfo=None),  # Purchase date\n",
    "        }\n",
    "        purchase_data.append(purchase)"
   ]
  },
  {
   "cell_type": "code",
   "execution_count": 4,
   "id": "c98223ac",
   "metadata": {},
   "outputs": [],
   "source": [
    "\n",
    "# Generate sample website browsing behavior\n",
    "pages_visited = ['Home', 'Products', 'About Us', 'Contact', 'Special Offers']\n",
    "website_data = []\n",
    "for customer_id in range(1, num_customers + 1):\n",
    "    num_visits = random.randint(1, 10)\n",
    "    for _ in range(num_visits):\n",
    "        visit = {\n",
    "            'CustomerID': customer_id,                                      # Customer ID\n",
    "            'PageVisited': random.choice(pages_visited),                   # Page visited\n",
    "            'VisitDate': fake.date_time_between(start_date='-1y', end_date='now', tzinfo=None),  # Visit date\n",
    "        }\n",
    "        website_data.append(visit)\n"
   ]
  },
  {
   "cell_type": "markdown",
   "id": "75860126",
   "metadata": {},
   "source": [
    "# Previous results of marketing campaings of comapany we will try to improve this usig data Analysis "
   ]
  },
  {
   "cell_type": "code",
   "execution_count": 5,
   "id": "78dd411b",
   "metadata": {},
   "outputs": [],
   "source": [
    "# Generate sample interactions with marketing campaigns\n",
    "campaigns = ['Email', 'SMS', 'Social Media', 'Direct Mail']\n",
    "interaction_data = []\n",
    "for customer_id in range(1, num_customers + 1):\n",
    "    num_interactions = random.randint(0, 3)\n",
    "    for _ in range(num_interactions):\n",
    "        interaction = {\n",
    "            'CustomerID': customer_id,                                      # Customer ID\n",
    "            'Campaign': random.choice(campaigns),                           # Marketing campaign\n",
    "            'InteractionDate': fake.date_time_between(start_date='-1y', end_date='now', tzinfo=None),  # Interaction date\n",
    "            'Outcome': random.choice(['Clicked', 'Opened', 'Converted', 'Unsubscribed']),  # Interaction outcome\n",
    "        }\n",
    "        interaction_data.append(interaction)"
   ]
  },
  {
   "cell_type": "code",
   "execution_count": 6,
   "id": "06232dc5",
   "metadata": {},
   "outputs": [],
   "source": [
    "# Update postal codes based on city\n",
    "for customer in customer_data:\n",
    "    if customer['City'] == 'Pune':\n",
    "        customer['ZipCode'] = '411021'\n",
    "    elif customer['City'] == 'Mumbai':\n",
    "        customer['ZipCode'] = random.choice(['40215', '45589', '4065'])\n",
    "    elif customer['City'] == 'Aurangabad':\n",
    "        customer['ZipCode'] = '40080'\n",
    "    elif customer['City'] == 'Nashik':\n",
    "        customer['ZipCode'] = '45021'\n",
    "    elif customer['City'] == 'Nagpur':\n",
    "        customer['ZipCode'] = '40001'\n"
   ]
  },
  {
   "cell_type": "code",
   "execution_count": 7,
   "id": "3311a655",
   "metadata": {},
   "outputs": [],
   "source": [
    "# Create DataFrames from the generated data\n",
    "customers_df = pd.DataFrame(customer_data).set_index('CustomerID')\n",
    "purchases_df = pd.DataFrame(purchase_data)\n",
    "website_df = pd.DataFrame(website_data)\n",
    "interactions_df = pd.DataFrame(interaction_data)\n"
   ]
  },
  {
   "cell_type": "code",
   "execution_count": 8,
   "id": "469d9ac7",
   "metadata": {},
   "outputs": [],
   "source": [
    "# Reset index\n",
    "customers_df.reset_index(inplace=True)\n",
    "\n",
    "# Save each DataFrame to separate CSV files\n",
    "customers_df.to_csv('customer_data.csv', index=False)\n",
    "purchases_df.to_csv('purchase_history.csv', index=False)\n",
    "website_df.to_csv('website_browsing_behavior.csv', index=False)\n",
    "interactions_df.to_csv('marketing_campaigns.csv', index=False)"
   ]
  },
  {
   "cell_type": "code",
   "execution_count": 9,
   "id": "3bada072",
   "metadata": {},
   "outputs": [],
   "source": [
    "# Merge all DataFrames\n",
    "merged_df = pd.concat([customers_df, purchases_df, website_df, interactions_df], axis=1)\n",
    "\n",
    "# Save merged DataFrame to CSV file\n",
    "merged_df.to_csv('retail_data.csv', index=False)"
   ]
  },
  {
   "cell_type": "code",
   "execution_count": 10,
   "id": "f50375b3",
   "metadata": {},
   "outputs": [
    {
     "name": "stdout",
     "output_type": "stream",
     "text": [
      "Sample Merged Data:\n",
      "  CustomerID FirstName LastName                    Email   PhoneNumber  \\\n",
      "0        1.0       Eva    Varma    sahnivedika@gmail.com  3.884212e+09   \n",
      "1        2.0     Zaina    Koshy  indrajitdalal@gmail.com  7.080247e+09   \n",
      "2        3.0     Mehul     Gour    vritikakeer@gmail.net  5.619663e+09   \n",
      "3        4.0      Rhea   Sachar     bvarughese@gmail.org  3.303367e+09   \n",
      "4        5.0  Neelofar    Baral   maharajumang@gmail.org  3.761430e+09   \n",
      "\n",
      "                 Address    City        State ZipCode Country  ...   Price  \\\n",
      "0      14, Gulati Circle  Nagpur  Maharashtra   40001   India  ...  212.16   \n",
      "1  H.No. 50, Dora Circle  Nagpur  Maharashtra   40001   India  ...  672.93   \n",
      "2   H.No. 773, Kar Chowk  Nagpur  Maharashtra   40001   India  ...  549.29   \n",
      "3          220\\nJha Path  Nagpur  Maharashtra   40001   India  ...  947.58   \n",
      "4   62/57\\nChauhan Chowk  Mumbai  Maharashtra    4065   India  ...  354.49   \n",
      "\n",
      "  Quantity        PurchaseDate CustomerID  PageVisited           VisitDate  \\\n",
      "0      3.0 2024-04-30 08:23:56          1     Products 2023-06-19 08:31:50   \n",
      "1      2.0 2024-01-07 14:28:32          1      Contact 2023-10-13 20:52:28   \n",
      "2      2.0 2024-02-26 17:19:00          1         Home 2024-02-09 19:58:31   \n",
      "3      1.0 2023-07-17 06:11:45          1      Contact 2024-02-18 03:01:04   \n",
      "4      3.0 2023-05-15 14:59:08          1         Home 2023-06-29 20:45:33   \n",
      "\n",
      "  CustomerID      Campaign     InteractionDate       Outcome  \n",
      "0        1.0  Social Media 2024-04-25 01:55:07  Unsubscribed  \n",
      "1        1.0         Email 2023-11-08 12:12:46        Opened  \n",
      "2        1.0           SMS 2023-09-09 12:56:33        Opened  \n",
      "3        3.0   Direct Mail 2024-05-08 00:27:10     Converted  \n",
      "4        3.0         Email 2023-08-23 11:52:20  Unsubscribed  \n",
      "\n",
      "[5 rows x 24 columns]\n"
     ]
    }
   ],
   "source": [
    "\n",
    "# Display sample data\n",
    "print(\"Sample Merged Data:\")\n",
    "print(merged_df.head())\n"
   ]
  }
 ],
 "metadata": {
  "kernelspec": {
   "display_name": "Python 3 (ipykernel)",
   "language": "python",
   "name": "python3"
  },
  "language_info": {
   "codemirror_mode": {
    "name": "ipython",
    "version": 3
   },
   "file_extension": ".py",
   "mimetype": "text/x-python",
   "name": "python",
   "nbconvert_exporter": "python",
   "pygments_lexer": "ipython3",
   "version": "3.10.2"
  }
 },
 "nbformat": 4,
 "nbformat_minor": 5
}

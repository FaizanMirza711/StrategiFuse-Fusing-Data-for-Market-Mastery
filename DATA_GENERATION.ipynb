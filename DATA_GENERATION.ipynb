{
 "cells": [
  {
   "cell_type": "markdown",
   "id": "4f83d80f",
   "metadata": {},
   "source": [
    "\n",
    "# As we donot have access to any company CRM lets Generate the data using faker in python"
   ]
  },
  {
   "cell_type": "code",
   "execution_count": 1,
   "id": "da29b328",
   "metadata": {},
   "outputs": [],
   "source": [
    "from faker import Faker\n",
    "import pandas as pd\n",
    "import random\n",
    "\n",
    "# Initialize Faker object with Indian locale\n",
    "fake = Faker('en_IN')"
   ]
  },
  {
   "cell_type": "code",
   "execution_count": 2,
   "id": "a0dbd8f6",
   "metadata": {},
   "outputs": [],
   "source": [
    "# Generate sample customer data\n",
    "num_customers = 1000  # Number of customers to generate\n",
    "\n",
    "customer_data = []\n",
    "for _ in range(num_customers):\n",
    "    customer = {\n",
    "        'CustomerID': fake.uuid4(),                        # Unique customer ID\n",
    "        'FirstName': fake.first_name(),                   # First name\n",
    "        'LastName': fake.last_name(),                     # Last name\n",
    "        'Email': fake.email().replace('@example.', '@gmail.'),  # Email address with @gmail.com domain\n",
    "        'PhoneNumber': fake.random_number(digits=10),     # 10-digit phone number\n",
    "        'Address': fake.street_address(),                 # Indian address\n",
    "        'City': fake.random_element(elements=('Pune', 'Mumbai', 'Aurangabad', 'Nashik', 'Nagpur')),  # Indian city\n",
    "        'State': 'Maharashtra',                           # State set to Maharashtra\n",
    "        'ZipCode': '',                                    # Postal code to be updated based on city\n",
    "        'Country': 'India',                               # Country set to India\n",
    "        'Age': fake.random_int(min=18, max=90),           # Age\n",
    "        'Gender': fake.random_element(['Male', 'Female']),# Gender\n",
    "    }\n",
    "    customer_data.append(customer)\n"
   ]
  },
  {
   "cell_type": "markdown",
   "id": "cae9100c",
   "metadata": {},
   "source": [
    "# In real-life scenario we have data frames like purchase history customer data marketing pulls demographics and website browsing behaviour"
   ]
  },
  {
   "cell_type": "code",
   "execution_count": 3,
   "id": "c8cf1573",
   "metadata": {},
   "outputs": [],
   "source": [
    "# Generate sample purchase history\n",
    "products = ['Laptop', 'Smartphone', 'Headphones', 'Shoes', 'Jacket', 'Watch', 'Camera']\n",
    "purchase_data = []\n",
    "for customer_id in range(1, num_customers + 1):\n",
    "    num_purchases = random.randint(1, 5)\n",
    "    for _ in range(num_purchases):\n",
    "        purchase = {\n",
    "            'CustomerID': customer_id,                                      # Customer ID\n",
    "            'Product': random.choice(products),                            # Product purchased\n",
    "            'Price': round(random.uniform(50, 1000), 2),                   # Purchase price\n",
    "            'Quantity': random.randint(1, 3),                              # Quantity purchased\n",
    "            'PurchaseDate': fake.date_time_between(start_date='-1y', end_date='now', tzinfo=None),  # Purchase date\n",
    "        }\n",
    "        purchase_data.append(purchase)"
   ]
  },
  {
   "cell_type": "code",
   "execution_count": 4,
   "id": "c98223ac",
   "metadata": {},
   "outputs": [],
   "source": [
    "\n",
    "# Generate sample website browsing behavior\n",
    "pages_visited = ['Home', 'Products', 'About Us', 'Contact', 'Special Offers']\n",
    "website_data = []\n",
    "for customer_id in range(1, num_customers + 1):\n",
    "    num_visits = random.randint(1, 10)\n",
    "    for _ in range(num_visits):\n",
    "        visit = {\n",
    "            'CustomerID': customer_id,                                      # Customer ID\n",
    "            'PageVisited': random.choice(pages_visited),                   # Page visited\n",
    "            'VisitDate': fake.date_time_between(start_date='-1y', end_date='now', tzinfo=None),  # Visit date\n",
    "        }\n",
    "        website_data.append(visit)\n"
   ]
  },
  {
   "cell_type": "markdown",
   "id": "75860126",
   "metadata": {},
   "source": [
    "# Previous results of marketing campaings of comapany we will try to improve this usig data Analysis "
   ]
  },
  {
   "cell_type": "code",
   "execution_count": 5,
   "id": "78dd411b",
   "metadata": {},
   "outputs": [],
   "source": [
    "# Generate sample interactions with marketing campaigns\n",
    "campaigns = ['Email', 'SMS', 'Social Media', 'Direct Mail']\n",
    "interaction_data = []\n",
    "for customer_id in range(1, num_customers + 1):\n",
    "    num_interactions = random.randint(0, 3)\n",
    "    for _ in range(num_interactions):\n",
    "        interaction = {\n",
    "            'CustomerID': customer_id,                                      # Customer ID\n",
    "            'Campaign': random.choice(campaigns),                           # Marketing campaign\n",
    "            'InteractionDate': fake.date_time_between(start_date='-1y', end_date='now', tzinfo=None),  # Interaction date\n",
    "            'Outcome': random.choice(['Clicked', 'Opened', 'Converted', 'Unsubscribed']),  # Interaction outcome\n",
    "        }\n",
    "        interaction_data.append(interaction)"
   ]
  },
  {
   "cell_type": "code",
   "execution_count": 6,
   "id": "06232dc5",
   "metadata": {},
   "outputs": [],
   "source": [
    "# Update postal codes based on city\n",
    "for customer in customer_data:\n",
    "    if customer['City'] == 'Pune':\n",
    "        customer['ZipCode'] = '411021'\n",
    "    elif customer['City'] == 'Mumbai':\n",
    "        customer['ZipCode'] = random.choice(['40215', '45589', '4065'])\n",
    "    elif customer['City'] == 'Aurangabad':\n",
    "        customer['ZipCode'] = '40080'\n",
    "    elif customer['City'] == 'Nashik':\n",
    "        customer['ZipCode'] = '45021'\n",
    "    elif customer['City'] == 'Nagpur':\n",
    "        customer['ZipCode'] = '40001'\n"
   ]
  },
  {
   "cell_type": "code",
   "execution_count": 7,
   "id": "3311a655",
   "metadata": {},
   "outputs": [],
   "source": [
    "# Create DataFrames from the generated data\n",
    "customers_df = pd.DataFrame(customer_data).set_index('CustomerID')\n",
    "purchases_df = pd.DataFrame(purchase_data)\n",
    "website_df = pd.DataFrame(website_data)\n",
    "interactions_df = pd.DataFrame(interaction_data)\n"
   ]
  },
  {
   "cell_type": "code",
   "execution_count": 8,
   "id": "469d9ac7",
   "metadata": {},
   "outputs": [],
   "source": [
    "# Reset index\n",
    "customers_df.reset_index(inplace=True)\n",
    "\n",
    "# Save each DataFrame to separate CSV files\n",
    "customers_df.to_csv('customer_data.csv', index=False)\n",
    "purchases_df.to_csv('purchase_history.csv', index=False)\n",
    "website_df.to_csv('website_browsing_behavior.csv', index=False)\n",
    "interactions_df.to_csv('marketing_campaigns.csv', index=False)"
   ]
  },
  {
   "cell_type": "code",
   "execution_count": 9,
   "id": "3bada072",
   "metadata": {},
   "outputs": [],
   "source": [
    "# Merge all DataFrames\n",
    "merged_df = pd.concat([customers_df, purchases_df, website_df, interactions_df], axis=1)\n",
    "\n",
    "# Save merged DataFrame to CSV file\n",
    "merged_df.to_csv('retail_data.csv', index=False)"
   ]
  },
  {
   "cell_type": "code",
   "execution_count": 10,
   "id": "f50375b3",
   "metadata": {},
   "outputs": [
    {
     "name": "stdout",
     "output_type": "stream",
     "text": [
      "Sample Merged Data:\n",
      "                             CustomerID FirstName LastName  \\\n",
      "0  9d33947f-f014-4b77-bc9a-3cf7c3cd0fe3    Arhaan   Rattan   \n",
      "1  103e2a65-55df-4e59-bc71-fea5eb517106     Zaina    Barad   \n",
      "2  2d20f629-cf62-44df-a5ea-a0e629993daa      Ivan   Cheema   \n",
      "3  409e31fb-2578-4812-b2f1-5c80c0bb2a61    Mishti    Sinha   \n",
      "4  10e0248f-869d-487a-8932-30f74d67e4df    Jayant   Vaidya   \n",
      "\n",
      "                            Email   PhoneNumber                 Address  \\\n",
      "0                ojas37@gmail.net  9.037289e+09       39/66\\nHegde Path   \n",
      "1           aradhyakara@gmail.org  6.463069e+09  H.No. 10, Chandra Zila   \n",
      "2            neelofar33@gmail.com  1.175294e+09         38\\nChopra Marg   \n",
      "3  ramachandranhrishita@gmail.org  7.900054e+09         87/04, Ram Road   \n",
      "4     contractorelakshi@gmail.com  1.462423e+09          35, Dass Chowk   \n",
      "\n",
      "         City        State ZipCode Country  ...   Price Quantity  \\\n",
      "0  Aurangabad  Maharashtra   40080   India  ...  162.15      1.0   \n",
      "1      Nashik  Maharashtra   45021   India  ...  790.79      2.0   \n",
      "2      Mumbai  Maharashtra   45589   India  ...  431.35      3.0   \n",
      "3  Aurangabad  Maharashtra   40080   India  ...  923.87      2.0   \n",
      "4      Nashik  Maharashtra   45021   India  ...  704.91      2.0   \n",
      "\n",
      "         PurchaseDate CustomerID     PageVisited           VisitDate  \\\n",
      "0 2023-12-26 09:09:47          1            Home 2023-06-13 11:42:07   \n",
      "1 2023-12-24 18:35:58          1            Home 2024-03-15 07:45:05   \n",
      "2 2024-01-15 09:30:59          1  Special Offers 2023-05-17 22:07:55   \n",
      "3 2023-08-14 03:53:12          1  Special Offers 2023-06-16 08:50:09   \n",
      "4 2023-08-17 17:36:43          1  Special Offers 2023-12-16 18:20:00   \n",
      "\n",
      "  CustomerID      Campaign     InteractionDate       Outcome  \n",
      "0        1.0  Social Media 2024-01-18 09:21:43  Unsubscribed  \n",
      "1        1.0   Direct Mail 2024-02-12 04:18:19       Clicked  \n",
      "2        1.0           SMS 2024-03-14 17:41:44     Converted  \n",
      "3        2.0   Direct Mail 2023-07-05 15:25:43     Converted  \n",
      "4        2.0  Social Media 2023-12-27 07:38:38  Unsubscribed  \n",
      "\n",
      "[5 rows x 24 columns]\n"
     ]
    }
   ],
   "source": [
    "\n",
    "# Display sample data\n",
    "print(\"Sample Merged Data:\")\n",
    "print(merged_df.head())\n"
   ]
  }
 ],
 "metadata": {
  "kernelspec": {
   "display_name": "Python 3 (ipykernel)",
   "language": "python",
   "name": "python3"
  },
  "language_info": {
   "codemirror_mode": {
    "name": "ipython",
    "version": 3
   },
   "file_extension": ".py",
   "mimetype": "text/x-python",
   "name": "python",
   "nbconvert_exporter": "python",
   "pygments_lexer": "ipython3",
   "version": "3.10.2"
  }
 },
 "nbformat": 4,
 "nbformat_minor": 5
}

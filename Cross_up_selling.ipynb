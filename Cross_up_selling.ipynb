{
 "cells": [
  {
   "cell_type": "markdown",
   "id": "6c87b097-c83f-484e-bd4a-756180a249c5",
   "metadata": {},
   "source": [
    "\n",
    "# Next Product which can be Purchased Prediction\n"
   ]
  },
  {
   "cell_type": "code",
   "execution_count": 1,
   "id": "9c890737-1531-47a9-b726-7efcd366d31b",
   "metadata": {},
   "outputs": [],
   "source": [
    "import pandas as pd\n",
    "from sklearn.model_selection import train_test_split\n",
    "from sklearn.preprocessing import LabelEncoder, StandardScaler\n",
    "from sklearn.ensemble import GradientBoostingClassifier\n",
    "from sklearn.metrics import accuracy_score, classification_report, confusion_matrix\n",
    "import matplotlib.pyplot as plt\n",
    "import seaborn as sns\n",
    "import numpy as np"
   ]
  },
  {
   "cell_type": "markdown",
   "id": "d9e36c65-ce5b-45e7-a593-5c3ff3e8fd50",
   "metadata": {},
   "source": [
    "## Considering purchase_historyXcustomer_data"
   ]
  },
  {
   "cell_type": "code",
   "execution_count": null,
   "id": "4f759533-af76-4331-bdc9-71cb5738b032",
   "metadata": {},
   "outputs": [],
   "source": [
    "# Step 1: Read the CSV files into pandas DataFrames\n",
    "purchase_history_df = pd.read_csv('purchase_history.csv')\n",
    "customer_data_df = pd.read_csv('customer_data.csv')\n",
    "\n",
    "# Step 2: Merge the DataFrames based on the CustomerID attribute\n",
    "df = pd.merge(purchase_history_df, customer_data_df, on='CustomerID')\n",
    "\n",
    "# Step 3: Feature Engineering\n",
    "# Convert PurchaseDate to datetime\n",
    "df['PurchaseDate'] = pd.to_datetime(df['PurchaseDate'])"
   ]
  },
  {
   "cell_type": "markdown",
   "id": "0c90eff3-b553-47ce-a121-4b29ddc23eeb",
   "metadata": {},
   "source": [
    "## Making Considerable dataframes"
   ]
  },
  {
   "cell_type": "code",
   "execution_count": 3,
   "id": "297db8e4-5db8-4dde-9bd5-0554f6a5ebe2",
   "metadata": {},
   "outputs": [],
   "source": [
    "\n",
    "# Calculate total amount spent by each customer\n",
    "df['TotalSpent'] = df['Price'] * df['Quantity']\n",
    "\n",
    "# Group by CustomerID to aggregate purchase history\n",
    "customer_features = df.groupby('CustomerID').agg({\n",
    "    'TotalSpent': 'sum',\n",
    "    'Quantity': 'sum',\n",
    "    'PurchaseDate': ['min', 'max', 'nunique'],\n",
    "    'Product': lambda x: x.mode()[0]\n",
    "}).reset_index()\n",
    "\n",
    "# Flatten the column names\n",
    "customer_features.columns = ['CustomerID', 'TotalSpent', 'TotalQuantity', 'FirstPurchase', 'LastPurchase', 'PurchaseFrequency', 'FavoriteProduct']\n",
    "\n",
    "# Merge with customer data\n",
    "df = pd.merge(customer_features, customer_data_df, on='CustomerID')"
   ]
  },
  {
   "cell_type": "markdown",
   "id": "d98d6f91-2806-4ad6-b2d6-c5a95d54a201",
   "metadata": {},
   "source": [
    "## Encode categorical features"
   ]
  },
  {
   "cell_type": "code",
   "execution_count": 4,
   "id": "37713e00-a91e-4151-965c-009fef5bf08e",
   "metadata": {},
   "outputs": [],
   "source": [
    "\n",
    "label_encoders = {}\n",
    "categorical_columns = ['FavoriteProduct', 'Gender']\n",
    "\n",
    "for column in categorical_columns:\n",
    "    le = LabelEncoder()\n",
    "    df[column] = le.fit_transform(df[column])\n",
    "    label_encoders[column] = le\n",
    "\n",
    "# Convert datetime columns to Unix timestamps\n",
    "df['FirstPurchase'] = pd.to_datetime(df['FirstPurchase']).apply(lambda x: x.timestamp())\n",
    "df['LastPurchase'] = pd.to_datetime(df['LastPurchase']).apply(lambda x: x.timestamp())"
   ]
  },
  {
   "cell_type": "markdown",
   "id": "631b7df8-de4c-4bab-ac4c-040a6028ec31",
   "metadata": {},
   "source": [
    "## Select features and target"
   ]
  },
  {
   "cell_type": "code",
   "execution_count": 5,
   "id": "0d5803bb-ae0f-4729-b64c-c50c21549385",
   "metadata": {},
   "outputs": [],
   "source": [
    "\n",
    "\n",
    "features = ['TotalSpent', 'TotalQuantity', 'FirstPurchase', 'LastPurchase', 'PurchaseFrequency', 'FavoriteProduct', 'Age', 'Gender']\n",
    "X = df[features]\n",
    "y = df['FavoriteProduct']  # Use FavoriteProduct as a proxy for what the customer might buy next\n",
    "\n",
    "# Standardize numerical features\n",
    "scaler = StandardScaler()\n",
    "X = scaler.fit_transform(X)\n",
    "\n",
    "# Step 4: Train-Test Split\n",
    "X_train, X_test, y_train, y_test = train_test_split(X, y, test_size=0.2, random_state=42)"
   ]
  },
  {
   "cell_type": "markdown",
   "id": "e812a555-b3d4-463a-8bc5-f56a215f42aa",
   "metadata": {},
   "source": [
    "## Devloping Predictive Model"
   ]
  },
  {
   "cell_type": "code",
   "execution_count": 6,
   "id": "b9275572-b016-4202-9686-c79b418db833",
   "metadata": {},
   "outputs": [
    {
     "name": "stdout",
     "output_type": "stream",
     "text": [
      "Accuracy: 1.0\n",
      "Classification Report:\n",
      "              precision    recall  f1-score   support\n",
      "\n",
      "           0       1.00      1.00      1.00        58\n",
      "           1       1.00      1.00      1.00        34\n",
      "           2       1.00      1.00      1.00        38\n",
      "           3       1.00      1.00      1.00        20\n",
      "           4       1.00      1.00      1.00        17\n",
      "           5       1.00      1.00      1.00        24\n",
      "           6       1.00      1.00      1.00         9\n",
      "\n",
      "    accuracy                           1.00       200\n",
      "   macro avg       1.00      1.00      1.00       200\n",
      "weighted avg       1.00      1.00      1.00       200\n",
      "\n"
     ]
    }
   ],
   "source": [
    "# Step 5: Develop a predictive model\n",
    "model = GradientBoostingClassifier()\n",
    "model.fit(X_train, y_train)\n",
    "\n",
    "# Predict the outcomes on the test set\n",
    "y_pred = model.predict(X_test)\n",
    "\n",
    "# Evaluate the model\n",
    "accuracy = accuracy_score(y_test, y_pred)\n",
    "print(f'Accuracy: {accuracy}')\n",
    "print('Classification Report:')\n",
    "print(classification_report(y_test, y_pred))"
   ]
  },
  {
   "cell_type": "code",
   "execution_count": 7,
   "id": "a0d8fbf2-99db-4809-ae9b-b322a9e18df5",
   "metadata": {},
   "outputs": [
    {
     "data": {
      "image/png": "[encoded data removed]",
      "text/plain": [
       "<Figure size 1000x800 with 2 Axes>"
      ]
     },
     "metadata": {},
     "output_type": "display_data"
    }
   ],
   "source": [
    "# Confusion Matrix\n",
    "conf_matrix = confusion_matrix(y_test, y_pred)\n",
    "plt.figure(figsize=(10, 8))\n",
    "sns.heatmap(conf_matrix, annot=True, fmt='d', cmap='Blues')\n",
    "plt.title('Confusion Matrix')\n",
    "plt.xlabel('Predicted')\n",
    "plt.ylabel('Actual')\n",
    "plt.show()"
   ]
  },
  {
   "cell_type": "markdown",
   "id": "9784bb02-7d36-427f-9083-bb29cda9202b",
   "metadata": {},
   "source": [
    "## checking the generated model"
   ]
  },
  {
   "cell_type": "code",
   "execution_count": 8,
   "id": "66d25035-a688-4aaf-a29a-fb718e40e3ab",
   "metadata": {},
   "outputs": [],
   "source": [
    "\n",
    "# Function to predict and summarize next likely product\n",
    "def predict_next_product(model, scaler, label_encoders, new_data):\n",
    "    new_data_df = pd.DataFrame([new_data])\n",
    "    \n",
    "    # Encode categorical data\n",
    "    for column in categorical_columns:\n",
    "        if column in new_data_df.columns:\n",
    "            le = label_encoders[column]\n",
    "            new_data_df[column] = le.transform(new_data_df[column])\n",
    "    \n",
    "    # Convert datetime columns to Unix timestamps\n",
    "    if 'FirstPurchase' in new_data_df.columns:\n",
    "        new_data_df['FirstPurchase'] = pd.to_datetime(new_data_df['FirstPurchase']).apply(lambda x: x.timestamp())\n",
    "    if 'LastPurchase' in new_data_df.columns:\n",
    "        new_data_df['LastPurchase'] = pd.to_datetime(new_data_df['LastPurchase']).apply(lambda x: x.timestamp())\n",
    "    \n",
    "    # Standardize numerical features\n",
    "    new_data_df[features] = scaler.transform(new_data_df[features])\n",
    "    \n",
    "    # Predict the next product\n",
    "    prediction = model.predict(new_data_df[features])[0]\n",
    "    product = label_encoders['FavoriteProduct'].inverse_transform([prediction])[0]\n",
    "    \n",
    "    # Display the result\n",
    "    print(\"Predicted Next Product:\", product)\n",
    "    print(\"Details of the input data:\")\n",
    "    for key, value in new_data.items():\n",
    "        print(f\"{key}: {value}\")\n"
   ]
  },
  {
   "cell_type": "markdown",
   "id": "9822840d-02e7-4faa-8a19-73fb1bee43c2",
   "metadata": {},
   "source": [
    "## Random value feeding"
   ]
  },
  {
   "cell_type": "code",
   "execution_count": 9,
   "id": "3daadf7f-102e-4240-b38f-f1aed3da48ab",
   "metadata": {},
   "outputs": [
    {
     "name": "stdout",
     "output_type": "stream",
     "text": [
      "Predicted Next Product: Laptop\n",
      "Details of the input data:\n",
      "TotalSpent: 1500\n",
      "TotalQuantity: 10\n",
      "FirstPurchase: 2023-01-01\n",
      "LastPurchase: 2024-01-01\n",
      "PurchaseFrequency: 10\n",
      "FavoriteProduct: Laptop\n",
      "Age: 35\n",
      "Gender: Male\n"
     ]
    },
    {
     "name": "stderr",
     "output_type": "stream",
     "text": [
      "C:\\Users\\HP\\AppData\\Local\\Programs\\Python\\Python310\\lib\\site-packages\\sklearn\\base.py:432: UserWarning: X has feature names, but GradientBoostingClassifier was fitted without feature names\n",
      "  warnings.warn(\n"
     ]
    }
   ],
   "source": [
    "# Test the function with some random data\n",
    "new_data = {\n",
    "    'TotalSpent': 1500,\n",
    "    'TotalQuantity': 10,\n",
    "    'FirstPurchase': '2023-01-01',\n",
    "    'LastPurchase': '2024-01-01',\n",
    "    'PurchaseFrequency': 10,\n",
    "    'FavoriteProduct': 'Laptop',\n",
    "    'Age': 35,\n",
    "    'Gender': 'Male'\n",
    "}\n",
    "\n",
    "predict_next_product(model, scaler, label_encoders, new_data)"
   ]
  },
  {
   "cell_type": "markdown",
   "id": "c7c3d649-f553-4fca-86a3-5f045bafe4fb",
   "metadata": {},
   "source": [
    "## As we got 100% accuracy which is Quite Unsual This may be Due to faker generated dataset"
   ]
  },
  {
   "cell_type": "markdown",
   "id": "36a9fcdd-26e6-487f-8a34-e00bf50309d2",
   "metadata": {},
   "source": [
    "### Cross-Validation:\n",
    "\n",
    "Added cross-validation using cross_val_score to evaluate the model’s performance on different subsets of the data.\n",
    "This helps to ensure the model generalizes well and is not overfitting.\n",
    "### Check for Data Leakage:\n",
    "\n",
    "Ensure features are correctly processed and split.\n",
    "\n",
    "\n",
    "### The code prints cross-validation scores and their mean, which provides a more robust estimate of model performance."
   ]
  },
  {
   "cell_type": "code",
   "execution_count": 12,
   "id": "2c276a4d-6c9a-42b0-b53f-9637537815b8",
   "metadata": {},
   "outputs": [
    {
     "name": "stdout",
     "output_type": "stream",
     "text": [
      "Cross-Validation Scores: [1. 1. 1. 1. 1.]\n",
      "Mean Cross-Validation Score: 1.0\n",
      "Predicted Next Product: Laptop\n",
      "Details of the input data:\n",
      "TotalSpent: 1500\n",
      "TotalQuantity: 10\n",
      "FirstPurchase: 2023-01-01\n",
      "LastPurchase: 2024-01-01\n",
      "PurchaseFrequency: 10\n",
      "FavoriteProduct: Laptop\n",
      "Age: 35\n",
      "Gender: Male\n"
     ]
    },
    {
     "name": "stderr",
     "output_type": "stream",
     "text": [
      "C:\\Users\\HP\\AppData\\Local\\Programs\\Python\\Python310\\lib\\site-packages\\sklearn\\base.py:432: UserWarning: X has feature names, but GradientBoostingClassifier was fitted without feature names\n",
      "  warnings.warn(\n"
     ]
    }
   ],
   "source": [
    "\n",
    "\n",
    "# Cross-Validation to check for overfitting\n",
    "cv_scores = cross_val_score(model, X, y, cv=5)\n",
    "print(f'Cross-Validation Scores: {cv_scores}')\n",
    "print(f'Mean Cross-Validation Score: {cv_scores.mean()}')\n",
    "\n",
    "# Function to predict and summarize next likely product\n",
    "def predict_next_product(model, scaler, label_encoders, new_data):\n",
    "    new_data_df = pd.DataFrame([new_data])\n",
    "    \n",
    "    # Encode categorical data\n",
    "    for column in categorical_columns:\n",
    "        if column in new_data_df.columns:\n",
    "            le = label_encoders[column]\n",
    "            new_data_df[column] = le.transform(new_data_df[column])\n",
    "    \n",
    "    # Convert datetime columns to Unix timestamps\n",
    "    if 'FirstPurchase' in new_data_df.columns:\n",
    "        new_data_df['FirstPurchase'] = pd.to_datetime(new_data_df['FirstPurchase']).apply(lambda x: x.timestamp())\n",
    "    if 'LastPurchase' in new_data_df.columns:\n",
    "        new_data_df['LastPurchase'] = pd.to_datetime(new_data_df['LastPurchase']).apply(lambda x: x.timestamp())\n",
    "    \n",
    "    # Standardize numerical features\n",
    "    new_data_df[features] = scaler.transform(new_data_df[features])\n",
    "    \n",
    "    # Predict the next product\n",
    "    prediction = model.predict(new_data_df[features])[0]\n",
    "    product = label_encoders['FavoriteProduct'].inverse_transform([prediction])[0]\n",
    "    \n",
    "    # Display the result\n",
    "    print(\"Predicted Next Product:\", product)\n",
    "    print(\"Details of the input data:\")\n",
    "    for key, value in new_data.items():\n",
    "        print(f\"{key}: {value}\")\n",
    "\n",
    "# Test the function with some random data\n",
    "new_data = {\n",
    "    'TotalSpent': 1500,\n",
    "    'TotalQuantity': 10,\n",
    "    'FirstPurchase': '2023-01-01',\n",
    "    'LastPurchase': '2024-01-01',\n",
    "    'PurchaseFrequency': 10,\n",
    "    'FavoriteProduct': 'Laptop',\n",
    "    'Age': 35,\n",
    "    'Gender': 'Male'\n",
    "}\n",
    "\n",
    "predict_next_product(model, scaler, label_encoders, new_data)\n"
   ]
  },
  {
   "cell_type": "code",
   "execution_count": null,
   "id": "12afa48b-646e-4e9e-88c2-6a97465d53f6",
   "metadata": {},
   "outputs": [],
   "source": []
  }
 ],
 "metadata": {
  "kernelspec": {
   "display_name": "Python 3 (ipykernel)",
   "language": "python",
   "name": "python3"
  },
  "language_info": {
   "codemirror_mode": {
    "name": "ipython",
    "version": 3
   },
   "file_extension": ".py",
   "mimetype": "text/x-python",
   "name": "python",
   "nbconvert_exporter": "python",
   "pygments_lexer": "ipython3",
   "version": "3.10.2"
  }
 },
 "nbformat": 4,
 "nbformat_minor": 5
}
